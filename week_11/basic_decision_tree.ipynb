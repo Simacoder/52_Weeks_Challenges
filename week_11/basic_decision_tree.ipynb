{
 "cells": [
  {
   "cell_type": "markdown",
   "metadata": {},
   "source": [
    "# Basic Decision tree "
   ]
  },
  {
   "cell_type": "markdown",
   "metadata": {},
   "source": [
    "import libraries\n"
   ]
  },
  {
   "cell_type": "code",
   "execution_count": 28,
   "metadata": {},
   "outputs": [],
   "source": [
    "import numpy as np \n",
    "import pandas as pd\n",
    "import csv"
   ]
  },
  {
   "cell_type": "code",
   "execution_count": 29,
   "metadata": {},
   "outputs": [
    {
     "data": {
      "application/vnd.microsoft.datawrangler.viewer.v0+json": {
       "columns": [
        {
         "name": "index",
         "rawType": "int64",
         "type": "integer"
        },
        {
         "name": "Day",
         "rawType": "int64",
         "type": "integer"
        },
        {
         "name": "Conditions",
         "rawType": "object",
         "type": "string"
        },
        {
         "name": "wind_speed",
         "rawType": "int64",
         "type": "integer"
        },
        {
         "name": "Umbrella",
         "rawType": "object",
         "type": "string"
        }
       ],
       "conversionMethod": "pd.DataFrame",
       "ref": "e37a5be2-863b-4f6c-9e2c-79ccaa20944d",
       "rows": [
        [
         "0",
         "1",
         "Cloudy",
         "15",
         "No"
        ],
        [
         "1",
         "2",
         "Sunny",
         "15",
         "Yes"
        ],
        [
         "2",
         "3",
         "Cloudy",
         "28",
         "No"
        ],
        [
         "3",
         "4",
         "Sunny",
         "9",
         "No"
        ],
        [
         "4",
         "5",
         "Sunny",
         "29",
         "Yes"
        ]
       ],
       "shape": {
        "columns": 4,
        "rows": 5
       }
      },
      "text/html": [
       "<div>\n",
       "<style scoped>\n",
       "    .dataframe tbody tr th:only-of-type {\n",
       "        vertical-align: middle;\n",
       "    }\n",
       "\n",
       "    .dataframe tbody tr th {\n",
       "        vertical-align: top;\n",
       "    }\n",
       "\n",
       "    .dataframe thead th {\n",
       "        text-align: right;\n",
       "    }\n",
       "</style>\n",
       "<table border=\"1\" class=\"dataframe\">\n",
       "  <thead>\n",
       "    <tr style=\"text-align: right;\">\n",
       "      <th></th>\n",
       "      <th>Day</th>\n",
       "      <th>Conditions</th>\n",
       "      <th>wind_speed</th>\n",
       "      <th>Umbrella</th>\n",
       "    </tr>\n",
       "  </thead>\n",
       "  <tbody>\n",
       "    <tr>\n",
       "      <th>0</th>\n",
       "      <td>1</td>\n",
       "      <td>Cloudy</td>\n",
       "      <td>15</td>\n",
       "      <td>No</td>\n",
       "    </tr>\n",
       "    <tr>\n",
       "      <th>1</th>\n",
       "      <td>2</td>\n",
       "      <td>Sunny</td>\n",
       "      <td>15</td>\n",
       "      <td>Yes</td>\n",
       "    </tr>\n",
       "    <tr>\n",
       "      <th>2</th>\n",
       "      <td>3</td>\n",
       "      <td>Cloudy</td>\n",
       "      <td>28</td>\n",
       "      <td>No</td>\n",
       "    </tr>\n",
       "    <tr>\n",
       "      <th>3</th>\n",
       "      <td>4</td>\n",
       "      <td>Sunny</td>\n",
       "      <td>9</td>\n",
       "      <td>No</td>\n",
       "    </tr>\n",
       "    <tr>\n",
       "      <th>4</th>\n",
       "      <td>5</td>\n",
       "      <td>Sunny</td>\n",
       "      <td>29</td>\n",
       "      <td>Yes</td>\n",
       "    </tr>\n",
       "  </tbody>\n",
       "</table>\n",
       "</div>"
      ],
      "text/plain": [
       "   Day Conditions  wind_speed Umbrella\n",
       "0    1     Cloudy          15       No\n",
       "1    2      Sunny          15      Yes\n",
       "2    3     Cloudy          28       No\n",
       "3    4      Sunny           9       No\n",
       "4    5      Sunny          29      Yes"
      ]
     },
     "execution_count": 29,
     "metadata": {},
     "output_type": "execute_result"
    }
   ],
   "source": [
    "path = pd.read_csv('data/weather_data_50.csv')\n",
    "path.head()"
   ]
  },
  {
   "cell_type": "markdown",
   "metadata": {},
   "source": [
    "Load and preprocesing data"
   ]
  },
  {
   "cell_type": "code",
   "execution_count": 35,
   "metadata": {},
   "outputs": [],
   "source": [
    "def load_data_from_csv(path):\n",
    "    \"\"\"\n",
    "    Converts CSV data into numerical form for decision tree.\n",
    "    \"\"\"\n",
    "    X, y = [], []\n",
    "    condition_mapping = {\"sunny\": 0, \"cloudy\": 1, \"rainy\": 2}\n",
    "\n",
    "    with open(path, newline='') as csvfile:\n",
    "        reader = csv.DictReader(csvfile)\n",
    "        for row in reader:\n",
    "            X.append([condition_mapping[row['conditions']], float(row['wind'])])\n",
    "            y.append(1 if row['umbrella'] == \"yes\" else 0)\n",
    "\n",
    "    return np.array(X), np.array(y)"
   ]
  },
  {
   "cell_type": "markdown",
   "metadata": {},
   "source": [
    "building the tree and our measures of impurity \n",
    "the TreeNodes class represents the decision tree\n",
    "when the tree expands into two different brances(childnodes)"
   ]
  },
  {
   "cell_type": "code",
   "execution_count": 31,
   "metadata": {},
   "outputs": [],
   "source": [
    "FEATURES = {0: \"conditions\", 1: \"wind_speed\"}\n",
    "\n",
    "class TreeNode:\n",
    "    def __init__(self, feature=None, threshold=None, left=None, right=None, value=None):\n",
    "        self.feature = feature\n",
    "        self.threshold = threshold\n",
    "        self.left = left\n",
    "        self.right = right\n",
    "        self.value = value\n",
    "\n",
    "def gini_impurity(y):\n",
    "    if len(y) == 0:\n",
    "        return 0\n",
    "    classes, counts = np.unique(y, return_counts=True)\n",
    "    probabilities = counts / len(y)\n",
    "    return 1 - np.sum(probabilities ** 2)\n",
    "\n",
    "def weighted_impurity(left_y, right_y, impurity_function):\n",
    "    n = len(left_y) + len(right_y)\n",
    "    if n == 0:  # Prevent division by zero\n",
    "        return 0\n",
    "    left_weight = len(left_y) / n\n",
    "    right_weight = len(right_y) / n\n",
    "    return left_weight * impurity_function(left_y) + right_weight * impurity_function(right_y)\n"
   ]
  },
  {
   "cell_type": "markdown",
   "metadata": {},
   "source": [
    "Iterate over all features and values to find which threshold yeilds the lowest impurity"
   ]
  },
  {
   "cell_type": "code",
   "execution_count": 32,
   "metadata": {},
   "outputs": [],
   "source": [
    "def find_best_split(X, y, impurity_function):\n",
    "    best_feature = None\n",
    "    best_threshold = None\n",
    "    best_impurity = float('inf')\n",
    "\n",
    "    for feature_idx in range(X.shape[1]):\n",
    "        sorted_indices = np.argsort(X[:, feature_idx])\n",
    "        X_sorted = X[sorted_indices, feature_idx]\n",
    "        y_sorted = y[sorted_indices]\n",
    "\n",
    "        for i in range(1, len(X_sorted)):\n",
    "            if X_sorted[i] == X_sorted[i - 1]:  # Skip identical thresholds\n",
    "                continue\n",
    "            threshold = (X_sorted[i] + X_sorted[i - 1]) / 2\n",
    "            left_y = y_sorted[:i]\n",
    "            right_y = y_sorted[i:]\n",
    "            split_impurity = weighted_impurity(left_y, right_y, impurity_function)\n",
    "\n",
    "            if split_impurity < best_impurity:\n",
    "                best_feature = feature_idx\n",
    "                best_threshold = threshold\n",
    "                best_impurity = split_impurity\n",
    "\n",
    "    if best_feature is None:\n",
    "        return None, None, None\n",
    "\n",
    "    best_feature_word = FEATURES.get(best_feature, f\"Feature {best_feature}\")\n",
    "    print(f\"\\nBest Feature: {best_feature_word}\")\n",
    "    print(f\"Best Threshold: {best_threshold}\")\n",
    "    print(f\"Best Impurity: {best_impurity}\\n\")\n",
    "\n",
    "    return best_feature, best_threshold, best_impurity"
   ]
  },
  {
   "cell_type": "markdown",
   "metadata": {},
   "source": [
    "To build the tree the process of finding te best split"
   ]
  },
  {
   "cell_type": "code",
   "execution_count": 33,
   "metadata": {},
   "outputs": [],
   "source": [
    "def build_tree(X, y, impurity_function, depth=0, max_depth=5, min_samples_split=2, min_impurity_decrease=1e-7):\n",
    "    if len(y) < min_samples_split or depth >= max_depth or impurity_function(y) < min_impurity_decrease:\n",
    "        leaf_value = np.bincount(y).argmax()\n",
    "        return TreeNode(value=leaf_value)\n",
    "\n",
    "    print(f\"\\n# {depth + 1}st Iteration\")  # Print iteration number\n",
    "\n",
    "    best_feature, best_threshold, best_impurity = find_best_split(X, y, impurity_function)\n",
    "    if best_feature is None:\n",
    "        leaf_value = np.bincount(y).argmax()\n",
    "        return TreeNode(value=leaf_value)\n",
    "\n",
    "    left_indices = X[:, best_feature] <= best_threshold\n",
    "    right_indices = X[:, best_feature] > best_threshold\n",
    "\n",
    "    left_subtree = build_tree(X[left_indices], y[left_indices], impurity_function, depth + 1, max_depth, min_samples_split, min_impurity_decrease)\n",
    "    right_subtree = build_tree(X[right_indices], y[right_indices], impurity_function, depth + 1, max_depth, min_samples_split, min_impurity_decrease)\n",
    "\n",
    "    return TreeNode(feature=best_feature, threshold=best_threshold, left=left_subtree, right=right_subtree)\n"
   ]
  },
  {
   "cell_type": "markdown",
   "metadata": {},
   "source": [
    "# Test data "
   ]
  },
  {
   "cell_type": "code",
   "execution_count": 38,
   "metadata": {},
   "outputs": [
    {
     "name": "stdout",
     "output_type": "stream",
     "text": [
      "\n",
      "# 1st Iteration\n",
      "\n",
      "Best Feature: conditions\n",
      "Best Threshold: 1.5\n",
      "Best Impurity: 0.0\n",
      "\n"
     ]
    },
    {
     "data": {
      "text/plain": [
       "<__main__.TreeNode at 0x2021f43f450>"
      ]
     },
     "execution_count": 38,
     "metadata": {},
     "output_type": "execute_result"
    }
   ],
   "source": [
    "# Example Data\n",
    "X = np.array([[1, 30], [2, 50], [1, 40], [2, 60], [1, 20], [2, 80], [1, 10], [2, 70]])\n",
    "y = np.array([0, 1, 0, 1, 0, 1, 0, 1])\n",
    "\n",
    "# Build Tree\n",
    "build_tree(X, y, gini_impurity)"
   ]
  },
  {
   "cell_type": "markdown",
   "metadata": {},
   "source": [
    "Worked example for Regression"
   ]
  },
  {
   "cell_type": "code",
   "execution_count": 40,
   "metadata": {},
   "outputs": [
    {
     "data": {
      "application/vnd.microsoft.datawrangler.viewer.v0+json": {
       "columns": [
        {
         "name": "index",
         "rawType": "int64",
         "type": "integer"
        },
        {
         "name": "House",
         "rawType": "int64",
         "type": "integer"
        },
        {
         "name": "Size in m²",
         "rawType": "int64",
         "type": "integer"
        },
        {
         "name": "No of rooms",
         "rawType": "int64",
         "type": "integer"
        },
        {
         "name": "Price",
         "rawType": "int64",
         "type": "integer"
        }
       ],
       "conversionMethod": "pd.DataFrame",
       "ref": "06234cad-85b3-44b5-b14f-1f71e26eaba1",
       "rows": [
        [
         "0",
         "1",
         "50",
         "2",
         "150"
        ],
        [
         "1",
         "2",
         "60",
         "3",
         "180"
        ],
        [
         "2",
         "3",
         "70",
         "3",
         "190"
        ],
        [
         "3",
         "4",
         "80",
         "4",
         "210"
        ],
        [
         "4",
         "5",
         "90",
         "4",
         "230"
        ]
       ],
       "shape": {
        "columns": 4,
        "rows": 5
       }
      },
      "text/html": [
       "<div>\n",
       "<style scoped>\n",
       "    .dataframe tbody tr th:only-of-type {\n",
       "        vertical-align: middle;\n",
       "    }\n",
       "\n",
       "    .dataframe tbody tr th {\n",
       "        vertical-align: top;\n",
       "    }\n",
       "\n",
       "    .dataframe thead th {\n",
       "        text-align: right;\n",
       "    }\n",
       "</style>\n",
       "<table border=\"1\" class=\"dataframe\">\n",
       "  <thead>\n",
       "    <tr style=\"text-align: right;\">\n",
       "      <th></th>\n",
       "      <th>House</th>\n",
       "      <th>Size in m²</th>\n",
       "      <th>No of rooms</th>\n",
       "      <th>Price</th>\n",
       "    </tr>\n",
       "  </thead>\n",
       "  <tbody>\n",
       "    <tr>\n",
       "      <th>0</th>\n",
       "      <td>1</td>\n",
       "      <td>50</td>\n",
       "      <td>2</td>\n",
       "      <td>150</td>\n",
       "    </tr>\n",
       "    <tr>\n",
       "      <th>1</th>\n",
       "      <td>2</td>\n",
       "      <td>60</td>\n",
       "      <td>3</td>\n",
       "      <td>180</td>\n",
       "    </tr>\n",
       "    <tr>\n",
       "      <th>2</th>\n",
       "      <td>3</td>\n",
       "      <td>70</td>\n",
       "      <td>3</td>\n",
       "      <td>190</td>\n",
       "    </tr>\n",
       "    <tr>\n",
       "      <th>3</th>\n",
       "      <td>4</td>\n",
       "      <td>80</td>\n",
       "      <td>4</td>\n",
       "      <td>210</td>\n",
       "    </tr>\n",
       "    <tr>\n",
       "      <th>4</th>\n",
       "      <td>5</td>\n",
       "      <td>90</td>\n",
       "      <td>4</td>\n",
       "      <td>230</td>\n",
       "    </tr>\n",
       "  </tbody>\n",
       "</table>\n",
       "</div>"
      ],
      "text/plain": [
       "   House  Size in m²  No of rooms  Price\n",
       "0      1          50            2    150\n",
       "1      2          60            3    180\n",
       "2      3          70            3    190\n",
       "3      4          80            4    210\n",
       "4      5          90            4    230"
      ]
     },
     "execution_count": 40,
     "metadata": {},
     "output_type": "execute_result"
    }
   ],
   "source": [
    "filename = pd.read_csv('data/house_prices.csv')\n",
    "filename.head()"
   ]
  },
  {
   "cell_type": "markdown",
   "metadata": {},
   "source": [
    "modify the data loading function to ingest the housing data"
   ]
  },
  {
   "cell_type": "code",
   "execution_count": 41,
   "metadata": {},
   "outputs": [],
   "source": [
    "def load_data_from_csv(filename):\n",
    "    X, y = [], []\n",
    "    with open(filename, newline='') as csvfile:\n",
    "        reader = csv.DictReader(csvfile)\n",
    "        for row in reader:\n",
    "            X.append([float(row['size']), float(row['num_rooms'])])\n",
    "            y.append(float(row['price']))\n",
    "    return np.array(X), np.array(y)"
   ]
  },
  {
   "cell_type": "markdown",
   "metadata": {},
   "source": [
    "The TreeNode class remains exactly the same, but since we are now looking at a regression task, instead of classification, the impurity measure will be different — in this occasion: Variance."
   ]
  },
  {
   "cell_type": "code",
   "execution_count": 42,
   "metadata": {},
   "outputs": [],
   "source": [
    "def variance(y):\n",
    "    if len(y) == 0:\n",
    "        return 0\n",
    "    return np.var(y)\n",
    "\n",
    "def weighted_variance(left_y, right_y):\n",
    "    n = len(left_y) + len(right_y)\n",
    "    return (len(left_y) / n) * variance(left_y) + (len(right_y) / n) * variance(right_y)"
   ]
  },
  {
   "cell_type": "markdown",
   "metadata": {},
   "source": [
    "The difference between building a regression tree and a classification tree lies in the leaf nodes and it's really subtle. When you reach the leaf node at a classification tree your output should be one of the possible classes, this is why we use np.bincount(y).argmax(), as this returns the class that appears the most in that final group. "
   ]
  },
  {
   "cell_type": "code",
   "execution_count": 47,
   "metadata": {},
   "outputs": [],
   "source": [
    "def build_regression_tree(X, y, impurity_function, depth=0, max_depth=5, min_samples_split=2, min_variance_decrease=1e-7):\n",
    "    if len(y) < min_samples_split or depth >= max_depth or impurity_function(y) < min_variance_decrease:\n",
    "        return TreeNode(value=np.mean(y))\n",
    "    \n",
    "    best_feature, best_threshold, best_variance = find_best_split(X, y, variance)\n",
    "    if best_feature is None:\n",
    "        return TreeNode(value=np.mean(y))\n",
    "    \n",
    "    left_indices = X[:, best_feature] <= best_threshold\n",
    "    right_indices = X[:, best_feature] > best_threshold\n",
    "    \n",
    "    left_subtree = build_regression_tree(X[left_indices], y[left_indices], depth + 1, max_depth, min_samples_split, min_variance_decrease)\n",
    "    right_subtree = build_regression_tree(X[right_indices], y[right_indices], depth + 1, max_depth, min_samples_split, min_variance_decrease)\n",
    "    \n",
    "    return TreeNode(feature=best_feature, threshold=best_threshold, left=left_subtree, right=right_subtree)"
   ]
  },
  {
   "cell_type": "markdown",
   "metadata": {},
   "source": [
    "Test data"
   ]
  },
  {
   "cell_type": "code",
   "execution_count": null,
   "metadata": {},
   "outputs": [
    {
     "name": "stdout",
     "output_type": "stream",
     "text": [
      "\n",
      "Best Feature: conditions\n",
      "Best Threshold: 95.0\n",
      "Best Impurity: 768.0\n",
      "\n",
      "<__main__.TreeNode object at 0x0000020227DDB950>\n"
     ]
    }
   ],
   "source": [
    "# Example dataset \n",
    "X = np.array([\n",
    "    [50, 2], [60, 3], [70, 3], [80, 4], [90, 4],\n",
    "    [100, 5], [110, 5], [120, 6], [130, 6], [140, 7]\n",
    "])\n",
    "y = np.array([150, 180, 190, 210, 230, 250, 270, 290, 310, 330])\n",
    "\n",
    "# Build and print the tree\n",
    "regression_tree = build_regression_tree(X, y, variance)\n",
    "print(regression_tree)"
   ]
  },
  {
   "cell_type": "markdown",
   "metadata": {},
   "source": []
  }
 ],
 "metadata": {
  "kernelspec": {
   "display_name": "Python 3",
   "language": "python",
   "name": "python3"
  },
  "language_info": {
   "codemirror_mode": {
    "name": "ipython",
    "version": 3
   },
   "file_extension": ".py",
   "mimetype": "text/x-python",
   "name": "python",
   "nbconvert_exporter": "python",
   "pygments_lexer": "ipython3",
   "version": "3.11.5"
  }
 },
 "nbformat": 4,
 "nbformat_minor": 2
}
