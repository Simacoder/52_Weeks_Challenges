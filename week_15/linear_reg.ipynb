{
 "cells": [
  {
   "cell_type": "markdown",
   "id": "fa14c729",
   "metadata": {},
   "source": [
    "DIY AI and ML"
   ]
  },
  {
   "cell_type": "code",
   "execution_count": 1,
   "id": "a9c7dbb4",
   "metadata": {},
   "outputs": [
    {
     "ename": "ModuleNotFoundError",
     "evalue": "No module named 'pandas'",
     "output_type": "error",
     "traceback": [
      "\u001b[0;31m---------------------------------------------------------------------------\u001b[0m",
      "\u001b[0;31mModuleNotFoundError\u001b[0m                       Traceback (most recent call last)",
      "Cell \u001b[0;32mIn[1], line 1\u001b[0m\n\u001b[0;32m----> 1\u001b[0m \u001b[38;5;28;01mimport\u001b[39;00m \u001b[38;5;21;01mpandas\u001b[39;00m \u001b[38;5;28;01mas\u001b[39;00m \u001b[38;5;21;01mpd\u001b[39;00m\n\u001b[1;32m      2\u001b[0m \u001b[38;5;28;01mimport\u001b[39;00m \u001b[38;5;21;01mnumpy\u001b[39;00m \u001b[38;5;28;01mas\u001b[39;00m \u001b[38;5;21;01mnp\u001b[39;00m\n\u001b[1;32m      3\u001b[0m \u001b[38;5;28;01mimport\u001b[39;00m \u001b[38;5;21;01mrandom\u001b[39;00m\n",
      "\u001b[0;31mModuleNotFoundError\u001b[0m: No module named 'pandas'"
     ]
    }
   ],
   "source": [
    "\n",
    "import pandas as pd\n",
    "import numpy as np\n",
    "import random\n",
    "import matplotlib.pyplot as plt\n",
    "\n",
    "class MultipleLinearRegression:\n",
    "    def __init__(self):\n",
    "        self.coefficients = None\n",
    "        self.X_train = None\n",
    "        self.y_train = None\n",
    "        self.X_test = None\n",
    "        self.y_test = None\n",
    "        self.y_pred = None"
   ]
  },
  {
   "cell_type": "code",
   "execution_count": null,
   "id": "71568923",
   "metadata": {},
   "outputs": [],
   "source": [
    "def train_test_split(self, X, y, train_size=0.8, random_state=None):\n",
    "    \"\"\"\n",
    "    Splits the data into training and testing sets.\n",
    "    \"\"\"\n",
    "    if random_state:\n",
    "        np.random.seed(random_state)\n",
    "    indices = np.arange(len(X))\n",
    "    np.random.shuffle(indices)\n",
    "\n",
    "    train_size = int(len(X) * train_size)\n",
    "    \n",
    "    train_indices = indices[:train_size]\n",
    "    test_indices = indices[train_size:]\n",
    "\n",
    "    self.X_train, self.X_test = X[X.index.isin(train_indices)], X[X.index.isin(test_indices)]\n",
    "    self.y_train, self.y_test = y[y.index.isin(train_indices)], y[y.index.isin(test_indices)]"
   ]
  },
  {
   "cell_type": "code",
   "execution_count": null,
   "id": "5e94922d",
   "metadata": {},
   "outputs": [],
   "source": [
    "def fit(self):\n",
    "    \"\"\"\n",
    "    Fits the model using the training data.\n",
    "    \"\"\"\n",
    "    # Add a column of ones to X_train for the intercept term\n",
    "    X_train_intercept = np.hstack([np.ones((self.X_train.shape[0], 1)), self.X_train])\n",
    "    # Solve for coefficients using the normal equation\n",
    "    self.coefficients = np.linalg.inv(X_train_intercept.T @ X_train_intercept) @ X_train_intercept.T @ self.y_train"
   ]
  },
  {
   "cell_type": "code",
   "execution_count": null,
   "id": "2743f91c",
   "metadata": {},
   "outputs": [],
   "source": [
    "def predict(self, X):\n",
    "    \"\"\"\n",
    "    Predicts the target values for the given feature matrix X.\n",
    "    \"\"\"\n",
    "    # Add a column of ones to X for the intercept term\n",
    "    X_intercept = np.hstack([np.ones((X.shape[0], 1)), X])\n",
    "    return X_intercept @ self.coefficients"
   ]
  },
  {
   "cell_type": "code",
   "execution_count": null,
   "id": "c67a67dc",
   "metadata": {},
   "outputs": [],
   "source": [
    "def predict_new(self, new_features):\n",
    "    \"\"\"\n",
    "    Predicts the target value for a single array of new features.\n",
    "    \"\"\"\n",
    "    # Ensure new_features is a 2D array\n",
    "    new_features = np.array(new_features).reshape(1, -1)\n",
    "    return self.predict(new_features)[0]"
   ]
  },
  {
   "cell_type": "code",
   "execution_count": null,
   "id": "f4877c54",
   "metadata": {},
   "outputs": [],
   "source": [
    "def evaluate(self):\n",
    "    \"\"\"\n",
    "    Evaluates the model on the test data using R-squared, MSE, and MAE.\n",
    "    \"\"\"\n",
    "    y_pred = self.predict(self.X_test)\n",
    "    mse = np.mean((self.y_test - y_pred) ** 2)\n",
    "    mae = np.mean(np.abs(self.y_test - y_pred))\n",
    "    r2 = 1 - np.sum((self.y_test - y_pred) ** 2) / np.sum((self.y_test - np.mean(self.y_test)) ** 2)\n",
    "\n",
    "    return {\"R-squared\": r2, \"MSE\": mse, \"MAE\": mae}"
   ]
  },
  {
   "cell_type": "code",
   "execution_count": null,
   "id": "2484609e",
   "metadata": {},
   "outputs": [],
   "source": [
    "df = pd.read_csv('datahousing.csv')"
   ]
  },
  {
   "cell_type": "code",
   "execution_count": null,
   "id": "3db23d84",
   "metadata": {},
   "outputs": [],
   "source": [
    "df.head()"
   ]
  },
  {
   "cell_type": "code",
   "execution_count": null,
   "id": "f1b620a4",
   "metadata": {},
   "outputs": [],
   "source": [
    "X = df[['housing_median_age','total_rooms','total_bedrooms','median_income']]\n",
    "y = df['median_house_value']"
   ]
  },
  {
   "cell_type": "code",
   "execution_count": null,
   "id": "92bb92a2",
   "metadata": {},
   "outputs": [],
   "source": [
    "MLR = MultipleLinearRegression()\n",
    "MLR.train_test_split(X = X,y=y,train_size = 0.8, random_state=42)\n",
    "MLR.fit()\n",
    "MLR.evaluate()"
   ]
  },
  {
   "cell_type": "markdown",
   "id": "133b5ef3",
   "metadata": {},
   "source": [
    "The running the built-in multiple linear regression"
   ]
  },
  {
   "cell_type": "code",
   "execution_count": null,
   "id": "bcbd0080",
   "metadata": {},
   "outputs": [],
   "source": [
    "from sklearn.linear_model import LinearRegression\n",
    "from sklearn.model_selection import train_test_split\n",
    "from sklearn.linear_model import LinearRegression\n",
    "from sklearn.metrics import mean_squared_error,mean_absolute_error, r2_score\n",
    "\n",
    "X_train, X_test, y_train, y_test = train_test_split(X, y, test_size=0.2, random_state=42)\n",
    "sklearn_lingreg = LinearRegression()\n",
    "sklearn_lingreg.fit(X_train, y_train)\n",
    "\n",
    "y_pred = sklearn_lingreg.predict(X_test)\n",
    "\n",
    "mse = mean_squared_error(y_test, y_pred)\n",
    "mae = mean_absolute_error(y_test, y_pred)\n",
    "r2 = r2_score(y_test, y_pred)\n",
    "\n",
    "print(\"R-squared:\", r2)\n",
    "print(\"Mean Squared Error:\", mse)\n",
    "print(\"Mean Absolute Error:\", mae)"
   ]
  }
 ],
 "metadata": {
  "kernelspec": {
   "display_name": "Python 3",
   "language": "python",
   "name": "python3"
  },
  "language_info": {
   "codemirror_mode": {
    "name": "ipython",
    "version": 3
   },
   "file_extension": ".py",
   "mimetype": "text/x-python",
   "name": "python",
   "nbconvert_exporter": "python",
   "pygments_lexer": "ipython3",
   "version": "3.12.3"
  }
 },
 "nbformat": 4,
 "nbformat_minor": 5
}
