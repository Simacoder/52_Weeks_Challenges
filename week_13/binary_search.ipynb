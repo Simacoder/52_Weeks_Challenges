{
 "cells": [
  {
   "cell_type": "markdown",
   "metadata": {},
   "source": [
    "**Binary Search in Python: A Complete Guide for Efficient Searching**"
   ]
  },
  {
   "cell_type": "markdown",
   "metadata": {},
   "source": [
    "Learn how to implement binary search in Python using iterative and recursive approaches, and explore the built-in bisect module for efficient, pre-implemented binary search functions."
   ]
  },
  {
   "cell_type": "markdown",
   "metadata": {},
   "source": [
    "**What is Binary Search?**\n",
    "\n",
    "When searching for a value in a dataset, your goal is to find its index, or location, so you can easily retrieve and use that value in your code. Several search algorithms can help you locate the index of a specific value. One of the most efficient and fundamental methods is binary search.  "
   ]
  },
  {
   "cell_type": "markdown",
   "metadata": {},
   "source": [
    "**Concept overview**"
   ]
  },
  {
   "cell_type": "markdown",
   "metadata": {},
   "source": [
    "Binary search is a powerful algorithm designed to efficiently find a value in a sorted dataset. The core idea behind binary search is straightforward: Instead of checking each element in the dataset one by one, like in a linear search, binary search narrows down the search range by half with each step, making the process much faster.\n",
    "\n",
    "Here’s how it works:\n",
    "\n",
    "Begin by comparing the target value with the middle element of the dataset. The index for the middle value is calculated using the formula: middle = (low + high) / 2, where low is the index of the first element in the current search range, and high is the index of the last element.\n",
    "Compare the middle value with the target. If the target value is equal to the middle element, you've found the index, and the search is complete. If the target value is smaller than the middle element, the search continues in the left half of the dataset. If the target value is larger, the search continues in the right half of the dataset.\n",
    "Repeat steps 1-2. The search range is continually halved at each step. Repeat the process until the target value is found or the search range becomes empty."
   ]
  },
  {
   "cell_type": "markdown",
   "metadata": {},
   "source": [
    "**Efficiency**\n",
    "\n",
    "Binary search is significantly faster than linear search, particularly when dealing with large datasets. While linear search has a time complexity of O(n), meaning it may have to check every single element in the worst case, binary search is more efficient. It has a time complexity of O(log n), meaning the search space is halved with each step, significantly reducing the number of comparisons needed."
   ]
  },
  {
   "cell_type": "code",
   "execution_count": 1,
   "metadata": {},
   "outputs": [],
   "source": [
    "arr = [2, 5, 8, 12, 16, 23, 38, 56, 72, 91]\n",
    "target = 56"
   ]
  },
  {
   "cell_type": "markdown",
   "metadata": {},
   "source": [
    "**Iterative method**"
   ]
  },
  {
   "cell_type": "code",
   "execution_count": 2,
   "metadata": {},
   "outputs": [
    {
     "name": "stdout",
     "output_type": "stream",
     "text": [
      "Iterative: Target found at index 7\n"
     ]
    }
   ],
   "source": [
    "def binary_search_iterative(arr, target):\n",
    "    # Define the search bounds\n",
    "    left, right = 0, len(arr) - 1  \n",
    "    while left <= right:\n",
    "        # Calculate the middle index\n",
    "        mid = left + (right - left) // 2  \n",
    "        # If the middle element is the target, return its index\n",
    "        if arr[mid] == target:\n",
    "            return mid  \n",
    "        # If the target is bigger, narrow the search to the right half\n",
    "        elif arr[mid] < target: \n",
    "            left = mid + 1  \n",
    "        # If the target is smaller, narrow the search to the left half\n",
    "        else: \n",
    "            right = mid - 1  \n",
    "    # Return -1 if the target is not found\n",
    "    return -1 \n",
    "    \n",
    "# Run the iterative function\n",
    "result = binary_search_iterative(arr, target)\n",
    "if result != -1:\n",
    "    print(f\"Iterative: Target found at index {result}\")\n",
    "else:\n",
    "    print(\"Iterative: Target not found\")"
   ]
  },
  {
   "cell_type": "markdown",
   "metadata": {},
   "source": [
    "Let’s take a closer look at this code:\n",
    "\n",
    "We start by setting ‘left’ and ‘right’ as the bounds of the search space. Initially, left is 0 (the beginning of the array), and ‘right’ is len(arr) - 1 (the end of the array).\n",
    "\n",
    "In each iteration, we calculate the mid index, which represents the middle of the current search interval. This is done using the formula mid = left + (right - left) /2.\n",
    "\n",
    "We then compare the element at mid with target:\n",
    "\n",
    "If they match, we’ve found our target, and the function returns mid.\n",
    "\n",
    "If the element at mid is less than the target, it means the target must be in the right half, so we adjust left to mid + 1.\n",
    "\n",
    "If the element at mid is greater than the target, the target must be in the left half, so we adjust right to mid - 1.\n",
    "\n",
    "The loop continues until the target is found or until left exceeds right, which means the target isn’t in the array."
   ]
  },
  {
   "cell_type": "markdown",
   "metadata": {},
   "source": [
    "**Recursive method**"
   ]
  },
  {
   "cell_type": "markdown",
   "metadata": {},
   "source": [
    "The recursive method for binary search is another way to implement this algorithm. Instead of using a loop, the function calls itself, adjusting the search bounds each time until it finds the target or determines that the target isn’t present.\n",
    "\n",
    "Here’s how you can implement binary search recursively:"
   ]
  },
  {
   "cell_type": "code",
   "execution_count": 3,
   "metadata": {},
   "outputs": [
    {
     "name": "stdout",
     "output_type": "stream",
     "text": [
      "Iterative: Target found at index 7\n"
     ]
    }
   ],
   "source": [
    "def binary_search_recursive(arr, target, left, right):\n",
    "    # If the search bounds cross, the target isn't in the array\n",
    "    if left > right:  \n",
    "        return -1\n",
    "    # Calculate the middle index\n",
    "    mid = left + (right - left) // 2 \n",
    "    # If middle value equals the target, return the index\n",
    "    if arr[mid] == target: \n",
    "        return mid  \n",
    "    # If the target is bigger than the middle value, search in the right half\n",
    "    elif arr[mid] < target: \n",
    "        return binary_search_recursive(arr, target, mid + 1, right)  \n",
    "    # If the target is smaller than the middle value, search in the left half\n",
    "    else: \n",
    "        return binary_search_recursive(arr, target, left, mid - 1)  \n",
    "\n",
    "# Run the recursive function\n",
    "result = binary_search_recursive(arr, target, 0, len(arr) - 1)\n",
    "\n",
    "if result != -1:\n",
    "    print(f\"Iterative: Target found at index {result}\")\n",
    "else:\n",
    "    print(\"Iterative: Target not found\")"
   ]
  },
  {
   "cell_type": "markdown",
   "metadata": {},
   "source": [
    "Let’s take a closer look at this code:\n",
    "\n",
    "The recursive function starts with the same initial left and right bounds as the iterative function.\n",
    "\n",
    "It first checks if left exceeds right. If so, the function returns -1, indicating that the target isn’t in the array.\n",
    "\n",
    "Otherwise, the function calculates the mid index and compares the target with the element at mid.\n",
    "\n",
    "If the target equals the element at mid, the function returns mid.\n",
    "\n",
    "If the target is greater than mid, the function recursively calls itself with updated bounds to search the right half.\n",
    "\n",
    "If the target is less than mid, the function searches the left half.\n",
    "\n",
    "The recursion continues until it finds the target or exhausts the search space."
   ]
  },
  {
   "cell_type": "markdown",
   "metadata": {},
   "source": [
    "**Using Python’s built-in bisect module**"
   ]
  },
  {
   "cell_type": "markdown",
   "metadata": {},
   "source": [
    "Python’s standard library includes the bisect module, which provides pre-implemented binary search functions. This module is highly efficient and can often save us time over building our own function.\n",
    "\n",
    "Here’s how we can use the bisect module to find the target in our array:"
   ]
  },
  {
   "cell_type": "code",
   "execution_count": 4,
   "metadata": {},
   "outputs": [
    {
     "name": "stdout",
     "output_type": "stream",
     "text": [
      "Bisect: Target found at index 7\n"
     ]
    }
   ],
   "source": [
    "# Import the bisect module\n",
    "import bisect \n",
    "\n",
    "# Call the module and provide the array and the target value\n",
    "index = bisect.bisect_left(arr, target) \n",
    "\n",
    "#Print results\n",
    "if index < len(arr) and arr[index] == target:\n",
    "    print(f\"Bisect: Target found at index {index}\")\n",
    "else:\n",
    "    print(\"Bisect: Target not found\")"
   ]
  },
  {
   "cell_type": "markdown",
   "metadata": {},
   "source": [
    "Let’s take a closer look at this code:\n",
    "\n",
    "The bisect_left function returns the index where the target should be inserted to maintain the order of the array. If the target is found at this index, it means the target exists in the array.\n",
    "\n",
    "This method is particularly useful when working with sorted arrays and can also be used to insert elements while maintaining the sorted order.\n",
    "\n",
    "The bisect module also provides other functions like bisect_right and insort, which can be used for finding insertion points or inserting elements directly."
   ]
  },
  {
   "cell_type": "markdown",
   "metadata": {},
   "source": [
    "**Time and Space Complexity**"
   ]
  },
  {
   "cell_type": "markdown",
   "metadata": {},
   "source": [
    "The **iterative method** of binary search has a time complexity of O(log n) because the search interval is halved with each iteration. Its space complexity is O(1) since it uses a constant amount of extra space, only requiring a few variables to track the search bounds and the middle element.\n",
    "\n",
    "The **recursive method** also has a time complexity of O(log n) for the same reason. However, its space complexity is O(log n) due to the space needed to maintain the call stack for each recursive call. As each recursive call adds a layer to the stack, the depth of recursion is proportional to the number of halving steps, which is logarithmic in relation to the size of the dataset."
   ]
  }
 ],
 "metadata": {
  "kernelspec": {
   "display_name": "Python 3",
   "language": "python",
   "name": "python3"
  },
  "language_info": {
   "codemirror_mode": {
    "name": "ipython",
    "version": 3
   },
   "file_extension": ".py",
   "mimetype": "text/x-python",
   "name": "python",
   "nbconvert_exporter": "python",
   "pygments_lexer": "ipython3",
   "version": "3.11.5"
  }
 },
 "nbformat": 4,
 "nbformat_minor": 2
}
