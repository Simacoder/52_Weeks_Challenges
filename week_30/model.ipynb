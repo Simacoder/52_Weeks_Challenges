{
 "cells": [
  {
   "cell_type": "markdown",
   "id": "c5d77fa7",
   "metadata": {},
   "source": [
    "# Text-Moderation System with Embeddings"
   ]
  },
  {
   "cell_type": "code",
   "execution_count": null,
   "id": "8149f738",
   "metadata": {},
   "outputs": [],
   "source": [
    "%pip install -q sentence-transformers scikit-learn pandas matplotlib"
   ]
  },
  {
   "cell_type": "markdown",
   "id": "e2e4a7d3",
   "metadata": {},
   "source": [
    "**Import core modules**\n",
    "\n",
    "We import everything the notebook will need."
   ]
  },
  {
   "cell_type": "code",
   "execution_count": null,
   "id": "5af83952",
   "metadata": {},
   "outputs": [],
   "source": [
    "from sentence_transformers import SentenceTransformer\n",
    "from sklearn.model_selection import train_test_split\n",
    "from sklearn.linear_model import LogisticRegression\n",
    "from sklearn.metrics import classification_report, RocCurveDisplay\n",
    "import pandas as pd\n",
    "import matplotlib.pyplot as plt"
   ]
  },
  {
   "cell_type": "markdown",
   "id": "7f37269c",
   "metadata": {},
   "source": [
    "**Load and inspect data**\n",
    "\n",
    "Our dataset, moderation_dataset.csv, contains two columns:"
   ]
  },
  {
   "cell_type": "code",
   "execution_count": null,
   "id": "d1522245",
   "metadata": {},
   "outputs": [],
   "source": [
    "df = pd.read_csv(\"data/moderation_dataset.csv\")\n",
    "df.head(15)"
   ]
  },
  {
   "cell_type": "markdown",
   "id": "4071b7d6",
   "metadata": {},
   "source": [
    "Let’s check the label distribution:"
   ]
  },
  {
   "cell_type": "code",
   "execution_count": null,
   "id": "7c237c2f",
   "metadata": {},
   "outputs": [],
   "source": [
    "df.label.value_counts()"
   ]
  },
  {
   "cell_type": "markdown",
   "id": "0f12bc78",
   "metadata": {},
   "source": [
    "Our dataset is highly imbalanced, though it includes a large number of minority class examples. In this example, we'll apply balanced sampling to train on an even class distribution."
   ]
  },
  {
   "cell_type": "code",
   "execution_count": null,
   "id": "e6eb684f",
   "metadata": {},
   "outputs": [],
   "source": [
    "df = pd.concat((\n",
    "    df[df.label == 1].sample(500),\n",
    "    df[df.label == 0].sample(500)\n",
    "), axis=0)"
   ]
  },
  {
   "cell_type": "markdown",
   "id": "4d341e9f",
   "metadata": {},
   "source": [
    "# setting up environment"
   ]
  },
  {
   "cell_type": "code",
   "execution_count": null,
   "id": "e43ce2cf",
   "metadata": {},
   "outputs": [],
   "source": [
    "import os\n",
    "from dotenv import load_dotenv"
   ]
  },
  {
   "cell_type": "code",
   "execution_count": null,
   "id": "ad752d1c",
   "metadata": {},
   "outputs": [],
   "source": [
    "# Load environment variables from .env\n",
    "load_dotenv()\n",
    "\n",
    "# Access the API key\n",
    "api_key = os.getenv(\"OPENAI_API_KEY\")"
   ]
  },
  {
   "cell_type": "markdown",
   "id": "88740dca",
   "metadata": {},
   "source": [
    "**Create sentence embeddings**\n",
    "\n",
    "We will use OpenAI’s text-embedding-3-small model with 256 dimensions. This offers high-quality multilingual embeddings in a compact size suitable for low-latency tasks."
   ]
  },
  {
   "cell_type": "code",
   "execution_count": null,
   "id": "d87b7255",
   "metadata": {},
   "outputs": [],
   "source": [
    "from openai import OpenAI\n",
    "from tqdm import tqdm\n",
    "\n",
    "client = OpenAI(api_key=api_key)\n",
    "\n",
    "embeddings = []\n",
    "for text in tqdm(df[\"text\"].tolist(), desc=\"Embedding texts\"):\n",
    "    response = client.embeddings.create(\n",
    "        input=text,\n",
    "        model=\"text-embedding-3-small\",\n",
    "        dimensions=256\n",
    "    )\n",
    "    embeddings.append(response.data[0].embedding)"
   ]
  },
  {
   "cell_type": "markdown",
   "id": "b58d9888",
   "metadata": {},
   "source": [
    "**Prepare train and test sets**\n",
    "\n",
    "A stratified split keeps the class ratio consistent."
   ]
  },
  {
   "cell_type": "code",
   "execution_count": null,
   "id": "514f7428",
   "metadata": {},
   "outputs": [],
   "source": [
    "X_train, X_test, y_train, y_test = train_test_split(\n",
    "    embeddings,\n",
    "    df[\"label\"],\n",
    "    test_size=0.20,\n",
    "    stratify=df[\"label\"],\n",
    "    random_state=42\n",
    ")"
   ]
  },
  {
   "cell_type": "markdown",
   "id": "eca00c03",
   "metadata": {},
   "source": [
    "**Train a baseline classifier**\n",
    "\n",
    "Logistic regression handles dense embeddings well and trains in seconds"
   ]
  },
  {
   "cell_type": "code",
   "execution_count": null,
   "id": "0c7a6f97",
   "metadata": {},
   "outputs": [],
   "source": [
    "clf = LogisticRegression(\n",
    "    max_iter=200,\n",
    "    class_weight=\"balanced\"  # helps if classes are uneven\n",
    ")\n",
    "clf.fit(X_train, y_train)"
   ]
  },
  {
   "cell_type": "markdown",
   "id": "b1feaeaf",
   "metadata": {},
   "source": [
    "**Evaluate initial performance**\n",
    "\n",
    "We first look at metrics using the default 0.5 threshold."
   ]
  },
  {
   "cell_type": "code",
   "execution_count": null,
   "id": "76c85ab3",
   "metadata": {},
   "outputs": [],
   "source": [
    "y_pred = clf.predict(X_test)\n",
    "print(classification_report(y_test, y_pred, digits=3))"
   ]
  }
 ],
 "metadata": {
  "kernelspec": {
   "display_name": "Python 3",
   "language": "python",
   "name": "python3"
  },
  "language_info": {
   "codemirror_mode": {
    "name": "ipython",
    "version": 3
   },
   "file_extension": ".py",
   "mimetype": "text/x-python",
   "name": "python",
   "nbconvert_exporter": "python",
   "pygments_lexer": "ipython3",
   "version": "3.10.11"
  }
 },
 "nbformat": 4,
 "nbformat_minor": 5
}
